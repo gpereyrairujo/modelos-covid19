{
  "nbformat": 4,
  "nbformat_minor": 0,
  "metadata": {
    "language_info": {
      "codemirror_mode": {
        "name": "ipython",
        "version": 3
      },
      "file_extension": ".py",
      "mimetype": "text/x-python",
      "name": "python",
      "nbconvert_exporter": "python",
      "pygments_lexer": "ipython3",
      "version": "3.7.3-final"
    },
    "orig_nbformat": 2,
    "kernelspec": {
      "name": "python_defaultSpec_1600203230209",
      "display_name": "Python 3.7.3 64-bit"
    },
    "colab": {
      "name": "seir_municipios.ipynb",
      "provenance": [],
      "toc_visible": true
    }
  },
  "cells": [
    {
      "cell_type": "markdown",
      "metadata": {
        "id": "sAN8CyqmkGpM"
      },
      "source": [
        "# Ajuste de modelo SEIR\n",
        "\n",
        "Ajuste de un modelo SEIR discreto de paso diario a casos observados, y proyección de casos futuros.\n",
        "\n"
      ]
    },
    {
      "cell_type": "markdown",
      "metadata": {
        "id": "Y9duKnI7Lmcq"
      },
      "source": [
        "### Bibliotecas \n",
        "\n",
        "Bibliotecas de código que se van a utilizar"
      ]
    },
    {
      "cell_type": "code",
      "metadata": {
        "id": "78nJNFEiLeb9",
        "outputId": "e7e009d2-849a-400c-a1c1-150da49331cb",
        "colab": {
          "base_uri": "https://localhost:8080/"
        }
      },
      "source": [
        "# bibliotecas\n",
        "import pandas as pd\n",
        "import numpy as np\n",
        "import matplotlib.pyplot as plt\n",
        "import matplotlib.dates as mdates\n",
        "!pip install wget\n",
        "import wget\n",
        "import os"
      ],
      "execution_count": null,
      "outputs": [
        {
          "output_type": "stream",
          "text": [
            "Requirement already satisfied: wget in /usr/local/lib/python3.6/dist-packages (3.2)\n"
          ],
          "name": "stdout"
        }
      ]
    },
    {
      "cell_type": "markdown",
      "metadata": {
        "id": "9OK6CsKaLkQQ"
      },
      "source": [
        "## Variables de entrada"
      ]
    },
    {
      "cell_type": "markdown",
      "metadata": {
        "id": "aWhq7qLxnHfH"
      },
      "source": [
        "### Municipio"
      ]
    },
    {
      "cell_type": "code",
      "metadata": {
        "id": "EluWSx1fkGpY"
      },
      "source": [
        "municipio = 'Lobería'"
      ],
      "execution_count": null,
      "outputs": []
    },
    {
      "cell_type": "code",
      "metadata": {
        "id": "aOOoeijVJspV",
        "outputId": "f2a847e5-4cf1-4bf9-84ba-f52f74c857d7",
        "colab": {
          "base_uri": "https://localhost:8080/",
          "height": 563
        }
      },
      "source": [
        "# listado de municipios de la región sanitaria VIII, y la población de cada uno\n",
        "municipios = ['Ayacucho', 'Balcarce', 'General Alvarado', 'General Guido', 'General Juan Madariaga', 'General Lavalle', 'General Pueyrredón', 'La Costa', 'Lobería', 'Maipú', 'Mar Chiquita', 'Necochea', 'Pinamar', 'San Cayetano', 'Tandil', 'Villa Gesell']\n",
        "poblaciones = [21291, 45691, 44149, 2892, 21596, 4459, 656456, 78554, 18281, 10388, 25344, 95995, 31584, 8797, 139300, 38034]\n",
        "datos_municipios = pd.DataFrame(poblaciones, index=municipios, columns=['poblacion'])\n",
        "# buscar el dato de población del municipio seleccionado\n",
        "poblacion = datos_municipios.loc[municipio, 'poblacion']\n",
        "\n",
        "print('Municipio:', municipio)\n",
        "print('Población:', poblacion)\n",
        "\n",
        "datos_municipios"
      ],
      "execution_count": null,
      "outputs": [
        {
          "output_type": "stream",
          "text": [
            "Municipio: Lobería\n",
            "Población: 18281\n"
          ],
          "name": "stdout"
        },
        {
          "output_type": "execute_result",
          "data": {
            "text/html": [
              "<div>\n",
              "<style scoped>\n",
              "    .dataframe tbody tr th:only-of-type {\n",
              "        vertical-align: middle;\n",
              "    }\n",
              "\n",
              "    .dataframe tbody tr th {\n",
              "        vertical-align: top;\n",
              "    }\n",
              "\n",
              "    .dataframe thead th {\n",
              "        text-align: right;\n",
              "    }\n",
              "</style>\n",
              "<table border=\"1\" class=\"dataframe\">\n",
              "  <thead>\n",
              "    <tr style=\"text-align: right;\">\n",
              "      <th></th>\n",
              "      <th>poblacion</th>\n",
              "    </tr>\n",
              "  </thead>\n",
              "  <tbody>\n",
              "    <tr>\n",
              "      <th>Ayacucho</th>\n",
              "      <td>21291</td>\n",
              "    </tr>\n",
              "    <tr>\n",
              "      <th>Balcarce</th>\n",
              "      <td>45691</td>\n",
              "    </tr>\n",
              "    <tr>\n",
              "      <th>General Alvarado</th>\n",
              "      <td>44149</td>\n",
              "    </tr>\n",
              "    <tr>\n",
              "      <th>General Guido</th>\n",
              "      <td>2892</td>\n",
              "    </tr>\n",
              "    <tr>\n",
              "      <th>General Juan Madariaga</th>\n",
              "      <td>21596</td>\n",
              "    </tr>\n",
              "    <tr>\n",
              "      <th>General Lavalle</th>\n",
              "      <td>4459</td>\n",
              "    </tr>\n",
              "    <tr>\n",
              "      <th>General Pueyrredón</th>\n",
              "      <td>656456</td>\n",
              "    </tr>\n",
              "    <tr>\n",
              "      <th>La Costa</th>\n",
              "      <td>78554</td>\n",
              "    </tr>\n",
              "    <tr>\n",
              "      <th>Lobería</th>\n",
              "      <td>18281</td>\n",
              "    </tr>\n",
              "    <tr>\n",
              "      <th>Maipú</th>\n",
              "      <td>10388</td>\n",
              "    </tr>\n",
              "    <tr>\n",
              "      <th>Mar Chiquita</th>\n",
              "      <td>25344</td>\n",
              "    </tr>\n",
              "    <tr>\n",
              "      <th>Necochea</th>\n",
              "      <td>95995</td>\n",
              "    </tr>\n",
              "    <tr>\n",
              "      <th>Pinamar</th>\n",
              "      <td>31584</td>\n",
              "    </tr>\n",
              "    <tr>\n",
              "      <th>San Cayetano</th>\n",
              "      <td>8797</td>\n",
              "    </tr>\n",
              "    <tr>\n",
              "      <th>Tandil</th>\n",
              "      <td>139300</td>\n",
              "    </tr>\n",
              "    <tr>\n",
              "      <th>Villa Gesell</th>\n",
              "      <td>38034</td>\n",
              "    </tr>\n",
              "  </tbody>\n",
              "</table>\n",
              "</div>"
            ],
            "text/plain": [
              "                        poblacion\n",
              "Ayacucho                    21291\n",
              "Balcarce                    45691\n",
              "General Alvarado            44149\n",
              "General Guido                2892\n",
              "General Juan Madariaga      21596\n",
              "General Lavalle              4459\n",
              "General Pueyrredón         656456\n",
              "La Costa                    78554\n",
              "Lobería                     18281\n",
              "Maipú                       10388\n",
              "Mar Chiquita                25344\n",
              "Necochea                    95995\n",
              "Pinamar                     31584\n",
              "San Cayetano                 8797\n",
              "Tandil                     139300\n",
              "Villa Gesell                38034"
            ]
          },
          "metadata": {
            "tags": []
          },
          "execution_count": 29
        }
      ]
    },
    {
      "cell_type": "markdown",
      "metadata": {
        "id": "ghs6gjUOkGqe"
      },
      "source": [
        "### Parámetros\n",
        "\n",
        "Valores para los parámetros del modelo y otras variables necesarias para las simulaciones: \n",
        "\n",
        "- El valor del parámetro R0 es el que se va a ajustar a los datos, por lo que el valor que se indica acá se toma sólo como valor inicial. Los parámetros alpha y gamma son fijos, y el parámetro beta se calcula a partir de R0 y gamma.\n",
        "\n",
        "- Los parámetros se ajustan para 3 períodos de tiempo de distinta duración, tomando los datos de, por ejemplo, las últimas 1, 2 y 3 semanas. Para asegurar un mejor ajuste, en cada caso se inician las simulaciones unos días antes ('lag') del período a considerar.\n",
        "\n",
        "- Luego para cada ajuste de parámetros, se realiza una proyección hacia el futuro, una cierta cantidad de días."
      ]
    },
    {
      "cell_type": "code",
      "metadata": {
        "id": "chcaxVeykGqz"
      },
      "source": [
        "# parámetros del modelo SEIR\n",
        "R0 = 1.5\n",
        "alpha = 1 / 3\n",
        "gamma = 1 / 7\n",
        "beta = R0 * gamma\n",
        "# población total\n",
        "T = poblacion\n",
        "\n",
        "# días que se consideran para realizar el ajuste de parámetros\n",
        "duracion_ajuste_1 = 21\n",
        "duracion_ajuste_2 = 14\n",
        "duracion_ajuste_3 =  7\n",
        "\n",
        "# cuántos días antes se inicia la simulación para que se 'estabilicen' los valores\n",
        "duracion_lag = 7\n",
        "\n",
        "# duración de la proyección\n",
        "duracion_proyeccion = 15\n",
        "\n",
        "# columna de datos a ajustar\n",
        "columna_datos = 'Estimado'"
      ],
      "execution_count": null,
      "outputs": []
    },
    {
      "cell_type": "markdown",
      "metadata": {
        "id": "PR5yPlXjkGrj"
      },
      "source": [
        "### Otras configuraciones\n",
        "\n",
        "Configuraciones de estilo de los gráficos"
      ]
    },
    {
      "cell_type": "code",
      "metadata": {
        "id": "HultQAOVkGr2"
      },
      "source": [
        "# estilo para los gráficos\n",
        "plt.style.use('seaborn-whitegrid')\n",
        "plt.rcParams['lines.linewidth'] = 4\n",
        "plt.rcParams[\"legend.loc\"] = 'best'\n",
        "plt.rcParams[\"xtick.labelsize\"] = 11\n",
        "plt.rcParams[\"ytick.labelsize\"] = 11\n",
        "plt.rcParams[\"axes.labelsize\"] = 8\n"
      ],
      "execution_count": null,
      "outputs": []
    },
    {
      "cell_type": "code",
      "metadata": {
        "id": "9ycKkmb9kGsz"
      },
      "source": [
        ""
      ],
      "execution_count": null,
      "outputs": []
    },
    {
      "cell_type": "markdown",
      "metadata": {
        "id": "dXFWN-QjkGti"
      },
      "source": [
        "## Datos\n",
        "\n",
        "Descargar los datos del SISA, procesarlos y graficarlos."
      ]
    },
    {
      "cell_type": "markdown",
      "metadata": {
        "id": "g8tlS8J-GLhB"
      },
      "source": [
        "### Descargar datos\n",
        "\n",
        "Los datos a utilizar se toman del archivo csv de datos abiertos del Ministerio de Salud, con datos del SISA con fecha de corte diaria a las 17:45. "
      ]
    },
    {
      "cell_type": "code",
      "metadata": {
        "id": "_4TrMcQpGJEk",
        "outputId": "866042e5-cb58-4ff6-b287-7307d9c10116",
        "colab": {
          "base_uri": "https://localhost:8080/"
        }
      },
      "source": [
        "# dirección web de la que se descargan los datos\n",
        "url_datos_sisa = 'https://sisa.msal.gov.ar/datos/descargas/covid-19/files/Covid19Casos.csv'\n",
        "\n",
        "# archivo donde se guardan\n",
        "archivo_datos_sisa = 'Covid19Casos.csv'\n",
        "\n",
        "# descargar datos\n",
        "# si el archivo no existe, descargarlo\n",
        "if not os.path.exists(archivo_datos_sisa):\n",
        "  wget.download(url_datos_sisa, archivo_datos_sisa)\n",
        "else:\n",
        "  print('Base de datos SISA ya descargada')"
      ],
      "execution_count": null,
      "outputs": [
        {
          "output_type": "stream",
          "text": [
            "Base de datos SISA ya descargada\n"
          ],
          "name": "stdout"
        }
      ]
    },
    {
      "cell_type": "markdown",
      "metadata": {
        "id": "kbZiBqMjImIu"
      },
      "source": [
        "### Leer datos\n",
        "\n",
        "Leer el archivo de datos e incorporarlos a una tabla"
      ]
    },
    {
      "cell_type": "code",
      "metadata": {
        "tags": [],
        "id": "SohfIvbikGtp",
        "outputId": "9690fc2b-e5eb-4975-99eb-3198eed04f9b",
        "colab": {
          "base_uri": "https://localhost:8080/"
        }
      },
      "source": [
        "# datos de entrada\n",
        "# fuente de datos Ministerio de Salud: http://datos.salud.gob.ar/dataset/covid-19-casos-registrados-en-la-republica-argentina\n",
        "# chequear columnas con fechas, separador (, o ;), encoding (utf-8 o 16)\n",
        "columnas_con_fechas = [8,9,11,13,15,22,24]\n",
        "separador = ','\n",
        "codificacion = 'utf-8'\n",
        "# datos locales\n",
        "archivo_datos_minsal = 'Covid19Casos.csv'\n",
        " \n",
        "# 1. leer datos\n",
        "datos_sisa = pd.read_csv(archivo_datos_minsal, sep=separador, encoding=codificacion, skipinitialspace=True, parse_dates=columnas_con_fechas, infer_datetime_format=True)\n",
        " \n",
        "# 2. estadísticas resumen\n",
        "total_confirmados =             datos_sisa.loc[datos_sisa['clasificacion_resumen']=='Confirmado', 'id_evento_caso'].count()\n",
        "fecha_ultima_apertura =         datos_sisa['fecha_apertura'].max()\n",
        "fecha_ultima_actualizacion =    datos_sisa['ultima_actualizacion'].max()\n",
        "ultima_apertura =               fecha_ultima_apertura.strftime('%d/%m/%Y')\n",
        "ultima_actualizacion =          fecha_ultima_actualizacion.strftime('%d/%m/%Y')\n",
        " \n",
        "print('Total confirmados:',         total_confirmados)\n",
        "print('Última apertura de casos:',  ultima_apertura)\n",
        "print('Última actualización:',      ultima_actualizacion)"
      ],
      "execution_count": null,
      "outputs": [
        {
          "output_type": "stream",
          "text": [
            "Total confirmados: 824464\n",
            "Última apertura de casos: 06/10/2020\n",
            "Última actualización: 06/10/2020\n"
          ],
          "name": "stdout"
        }
      ]
    },
    {
      "cell_type": "code",
      "metadata": {
        "id": "dVfwClFi4JEC"
      },
      "source": [
        ""
      ],
      "execution_count": null,
      "outputs": []
    },
    {
      "cell_type": "markdown",
      "metadata": {
        "id": "z3jbB2bpI3XE"
      },
      "source": [
        "### Procesar datos\n",
        "\n",
        "Procesar los datos para calcular los casos diarios, casos acumulados y % de positividad"
      ]
    },
    {
      "cell_type": "code",
      "metadata": {
        "tags": [],
        "id": "rEZvZ9UUkGuY",
        "outputId": "5b3a3037-021d-4261-8784-aa610d47e508",
        "colab": {
          "base_uri": "https://localhost:8080/"
        }
      },
      "source": [
        "# 3. filtrar base de datos y dejar sólo casos de Prov de Bs As\n",
        "#    (tomar los casos con residencia y también carga en la prov de bs as)\n",
        "datos_sisa = datos_sisa.loc[datos_sisa['residencia_provincia_nombre']=='Buenos Aires']\n",
        "datos_sisa = datos_sisa.loc[datos_sisa['carga_provincia_nombre']=='Buenos Aires']\n",
        "\n",
        "\n",
        "# 4. filtrar datos y dejar sólo 1 municipio\n",
        "datos_sisa = datos_sisa.loc[datos_sisa['residencia_departamento_nombre']==municipio]\n",
        "\n",
        "\n",
        "# 5. armar tabla con casos diarios según clasificación\n",
        "datos_sisa['todos'] = 1\n",
        "tabla_casos_diarios = datos_sisa.pivot_table(\n",
        "    index=['fecha_apertura'], columns='clasificacion_resumen', values='todos', fill_value=0, aggfunc=np.sum)\n",
        "# rellenar datos faltantes (días que no hubo casos) haciendo un 'resampling' con paso diario ('D')\n",
        "tabla_casos_diarios = tabla_casos_diarios.resample('D').sum().fillna(0)\n",
        "\n",
        "# 6. agregar casos totales\n",
        "tabla_casos_diarios['Total'] = tabla_casos_diarios.sum(axis=1)\n",
        "\n",
        "# 7. si no hay casos en los últimos días, agregar filas con 0s para rellenar la tabla\n",
        "while(tabla_casos_diarios.index[-1] != fecha_ultima_actualizacion):\n",
        "    # ver cuál es la última fecha y sumarle 1 día\n",
        "    ultima_fecha = tabla_casos_diarios.index[-1]\n",
        "    fecha_siguiente = ultima_fecha +  + pd.Timedelta(days=1)\n",
        "    # copiar la última fila y multiplicarla por 0 y agregarla al final\n",
        "    fila_nueva = pd.DataFrame(tabla_casos_diarios[-1:].values * 0, index=[fecha_siguiente], columns=tabla_casos_diarios.columns)\n",
        "    tabla_casos_diarios = tabla_casos_diarios.append(fila_nueva)\n",
        "\n",
        "\n",
        "# 8. armar tabla de casos diarios acumulados\n",
        "# calcular casos acumulados\n",
        "tabla_casos_acumulados = tabla_casos_diarios.cumsum()\n",
        "\n",
        "\n",
        "# 9. calcular positividad por períodos de x días (los valores diarios podrían ser muy variables)\n",
        "# acumular datos por período de x días\n",
        "periodo = 14\n",
        "tabla_casos_por_periodos        = tabla_casos_diarios.rolling(periodo).sum()\n",
        "# calcular positividad\n",
        "tabla_casos_por_periodos['Positividad'] = tabla_casos_por_periodos['Confirmado'] / ( tabla_casos_por_periodos['Confirmado'] + tabla_casos_por_periodos['Descartado'])\n",
        "# rellenar datos faltantes (días que no hubo casos) haciendo un 'resampling' con paso diario ('D')\n",
        "tabla_casos_por_periodos = tabla_casos_por_periodos.resample('D').sum().fillna(0)\n",
        "# copiar positividad a la tabla de casos diarios\n",
        "tabla_casos_diarios['Positividad'] = tabla_casos_por_periodos['Positividad']\n",
        "\n",
        "print(tabla_casos_diarios)\n"
      ],
      "execution_count": null,
      "outputs": [
        {
          "output_type": "stream",
          "text": [
            "clasificacion_resumen  Confirmado  Descartado  Sospechoso  Total  Positividad\n",
            "fecha_apertura                                                               \n",
            "2020-03-25                      1           0           0      1     0.000000\n",
            "2020-03-26                      0           0           0      0     0.000000\n",
            "2020-03-27                      0           0           0      0     0.000000\n",
            "2020-03-28                      0           0           0      0     0.000000\n",
            "2020-03-29                      0           0           0      0     0.000000\n",
            "...                           ...         ...         ...    ...          ...\n",
            "2020-10-02                     12           4           0     16     0.563291\n",
            "2020-10-03                      8           5           0     13     0.571429\n",
            "2020-10-04                      2           1           0      3     0.584337\n",
            "2020-10-05                      2           0           4      6     0.590062\n",
            "2020-10-06                      4           0           1      5     0.587097\n",
            "\n",
            "[196 rows x 5 columns]\n"
          ],
          "name": "stdout"
        }
      ]
    },
    {
      "cell_type": "markdown",
      "metadata": {
        "id": "oegdVgkKJB5W"
      },
      "source": [
        "Graficar los datos calculados"
      ]
    },
    {
      "cell_type": "code",
      "metadata": {
        "id": "X2vsIVTekGu5",
        "outputId": "7b2aa3a3-7052-41eb-f68f-a8d664090e85",
        "colab": {
          "base_uri": "https://localhost:8080/",
          "height": 280
        }
      },
      "source": [
        "# graficar\n",
        "plt.plot(tabla_casos_acumulados.index, tabla_casos_acumulados['Confirmado'], label='Casos confirmados')\n",
        "plt.plot(tabla_casos_acumulados.index, tabla_casos_acumulados['Sospechoso'], label='Casos sospechosos')\n",
        "plt.plot(tabla_casos_acumulados.index, tabla_casos_acumulados['Total'], label='Casos totales abiertos')\n",
        "plt.legend(loc='upper left')\n"
      ],
      "execution_count": null,
      "outputs": [
        {
          "output_type": "execute_result",
          "data": {
            "text/plain": [
              "<matplotlib.legend.Legend at 0x7ff5b4cda550>"
            ]
          },
          "metadata": {
            "tags": []
          },
          "execution_count": 35
        },
        {
          "output_type": "display_data",
          "data": {
            "image/png": "[encoded data removed]",
            "text/plain": [
              "<Figure size 432x288 with 1 Axes>"
            ]
          },
          "metadata": {
            "tags": []
          }
        }
      ]
    },
    {
      "cell_type": "code",
      "metadata": {
        "id": "34G0WzsywFTy",
        "outputId": "7a508ee1-5815-43d0-da71-3b89f29126d9",
        "colab": {
          "base_uri": "https://localhost:8080/",
          "height": 283
        }
      },
      "source": [
        "plt.plot(tabla_casos_por_periodos.index, tabla_casos_por_periodos['Positividad'] * 100, label='Positividad')\n",
        "plt.legend(loc='upper left')"
      ],
      "execution_count": null,
      "outputs": [
        {
          "output_type": "execute_result",
          "data": {
            "text/plain": [
              "<matplotlib.legend.Legend at 0x7ff5b3ac5cc0>"
            ]
          },
          "metadata": {
            "tags": []
          },
          "execution_count": 36
        },
        {
          "output_type": "display_data",
          "data": {
            "image/png": "[encoded data removed]",
            "text/plain": [
              "<Figure size 432x288 with 1 Axes>"
            ]
          },
          "metadata": {
            "tags": []
          }
        }
      ]
    },
    {
      "cell_type": "markdown",
      "metadata": {
        "id": "V4bgOV1uJNxR"
      },
      "source": [
        "### Estimar casos no diagnosticados\n",
        "\n",
        "Estimar qué proporción de los casos sospechosos, que aún no han sido confirmados ni descartados, podrían llegar a ser positivos en base a los valores de positividad calculados para cada día "
      ]
    },
    {
      "cell_type": "code",
      "metadata": {
        "tags": [],
        "id": "ERCDf-TskGvc",
        "outputId": "1b572706-8add-4301-954a-585f30532ad3",
        "colab": {
          "base_uri": "https://localhost:8080/",
          "height": 280
        }
      },
      "source": [
        "# estimar casos que serán confirmados eventualmente, según la positividad de los últimos días\n",
        "tabla_casos_diarios['Estimado'] = tabla_casos_diarios['Confirmado'] + tabla_casos_diarios['Sospechoso'] * tabla_casos_diarios['Positividad']\n",
        "\n",
        "# corregir datos del último día según hora de corte (17:45hs)\n",
        "tabla_casos_diarios.loc[tabla_casos_diarios.index[-1], 'Estimado'] *= 24 / 17.75\n",
        "\n",
        "# calcular acumulados de los casos estimados\n",
        "tabla_casos_acumulados['Estimado'] = tabla_casos_diarios['Estimado'].cumsum()\n",
        "\n",
        "# graficar\n",
        "plt.plot(tabla_casos_acumulados.index, tabla_casos_acumulados['Estimado'], label='Casos estimados')\n",
        "plt.plot(tabla_casos_acumulados.index, tabla_casos_acumulados['Confirmado'], label='Casos confirmados')\n",
        "plt.legend(loc='upper left')"
      ],
      "execution_count": null,
      "outputs": [
        {
          "output_type": "execute_result",
          "data": {
            "text/plain": [
              "<matplotlib.legend.Legend at 0x7ff5b3b12320>"
            ]
          },
          "metadata": {
            "tags": []
          },
          "execution_count": 37
        },
        {
          "output_type": "display_data",
          "data": {
            "image/png": "[encoded data removed]",
            "text/plain": [
              "<Figure size 432x288 with 1 Axes>"
            ]
          },
          "metadata": {
            "tags": []
          }
        }
      ]
    },
    {
      "cell_type": "code",
      "metadata": {
        "tags": [],
        "id": "iOHh7OA7kGv-"
      },
      "source": [
        "# copiar tabla de datos y agregar columna con nombre 'fecha'\n",
        "datos = tabla_casos_acumulados.copy()\n",
        "datos['fecha'] = datos.index\n",
        "datos = datos.reset_index(drop=True)\n"
      ],
      "execution_count": null,
      "outputs": []
    },
    {
      "cell_type": "markdown",
      "metadata": {
        "id": "qxtLCH3UkGwg"
      },
      "source": [
        "## Códigos del modelo"
      ]
    },
    {
      "cell_type": "markdown",
      "metadata": {
        "id": "OKdhrSKCm-V4"
      },
      "source": [
        "### Función para correr el modelo"
      ]
    },
    {
      "cell_type": "code",
      "metadata": {
        "id": "jCUXRsOikGwl"
      },
      "source": [
        "def modelo_SEIR(tabla_datos, fila_inicio=0, fila_fin=-1):\n",
        "\n",
        "    '''\n",
        "    Modelo SEIR de paso diario\n",
        "\n",
        "    Variables de entrada:\n",
        "        tabla_datos: dataframe con (al menos) las siguientes columnas:\n",
        "            R0: parámetro R0, un valor para cada fila/día\n",
        "            Alpha: parámetro Alpha, un valor para cada fila/día\n",
        "            Gamma: parámetro Gamma, un valor para cada fila/día\n",
        "            Beta: parámetro Beta (se calcula a partir de R0 y Gamma)\n",
        "            S: individuos susceptibles, valor para fila inicial\n",
        "            E: individuos expuestos, valor para fila inicial\n",
        "            I: individuos infectados, valor para fila inicial\n",
        "            Ia: individuos infectados acumulados, valor para fila inicial\n",
        "            R: individuos recuperados/removidos, valor para fila inicial\n",
        "        fila_inicio: fila correspondiente al día 0 de la simulación (default comienza en fila 0)\n",
        "        fila_fin: fila correspondiente al último día de la simulación (default hasta la última fila)\n",
        "    \n",
        "    Salida: mismo dataframe de entrada con los resultados de individuos S, E, I, R, Ia\n",
        "    '''\n",
        "\n",
        "    # hacer una copia de los datos (para no modificar la tabla de datos original)\n",
        "    datos = tabla_datos.copy()\n",
        "\n",
        "    # si no se ingresa valor de última fila, contar las filas\n",
        "    if(fila_fin==-1): fila_fin = len(datos.index) - 1\n",
        "\n",
        "    for d in range(fila_inicio, fila_fin):\n",
        "\n",
        "        # leer valores dia actual\n",
        "        S = datos.loc[d,'S']\n",
        "        E = datos.loc[d,'E']\n",
        "        I = datos.loc[d,'I']\n",
        "        R = datos.loc[d,'R']\n",
        "        T = S+I+R\n",
        "\n",
        "        # leer parámetros día actual\n",
        "        R0 = datos.loc[d,'R0']\n",
        "        alpha = datos.loc[d,'Alpha']\n",
        "        gamma = datos.loc[d,'Gamma']\n",
        "        \n",
        "        # calcular Beta a partir del R0 y escribirlo en la tabla\n",
        "        beta = R0 * gamma\n",
        "        datos.loc[d, 'Beta'] = beta\n",
        "        \n",
        "        # calcular valores día siguiente\n",
        "        S1 = S - beta * S * I/T\n",
        "        E1 = E + beta * S * I/T - alpha * E\n",
        "        I1 = I + alpha * E + - gamma * I\n",
        "        R1 = R + I * gamma\n",
        "        Ia1 = I1 + R1\n",
        "\n",
        "        # escribir datos día siguiente\n",
        "        datos.loc[d+1,'S'] = S1\n",
        "        datos.loc[d+1,'E'] = E1\n",
        "        datos.loc[d+1,'I'] = I1\n",
        "        datos.loc[d+1,'R'] = R1\n",
        "        datos.loc[d+1,'Ia'] = Ia1\n",
        "\n",
        "    # resultado\n",
        "    return datos"
      ],
      "execution_count": null,
      "outputs": []
    },
    {
      "cell_type": "markdown",
      "metadata": {
        "id": "vo0w0H7ykGxG"
      },
      "source": [
        "### Función para ajustar el modelo\n",
        "\n",
        "Función que ajusta los parámetros del modelo, minimizando la diferencia entre valores observados y simulados."
      ]
    },
    {
      "cell_type": "code",
      "metadata": {
        "id": "4KkNBGE-kGxO"
      },
      "source": [
        "import random\n",
        "from sklearn.metrics import mean_squared_error\n",
        "from math import sqrt\n",
        "\n",
        "def ajustar_modelo(modelo, datos, serie_estimados, serie_observados, inicio_ajuste=0, fin_ajuste=-1, variacion_aleatoria=0.05, maximo_iteraciones=1000, maximo_iteraciones_sin_cambios=150):\n",
        "\n",
        "    '''\n",
        "    Función para ajustar parámetros de modelos SEIR de paso diario\n",
        "    Variables de entrada:\n",
        "    modelo                          función del modelo a ejecutar\n",
        "    datos                           tabla de datos con las variables de entrada del modelo\n",
        "    serie_estimados                 nombre de la serie que contiene los datos estimados por el modelo \n",
        "    serie_observados                nombre de la serie que contiene los datos observados\n",
        "    inicio_ajuste                   fila a partir de la cual se comparan observado y estimado (por defecto la primera fila)\n",
        "    fin_ajuste                      fila a hasta la cual se comparan observado y estimado (por defecto la última fila)\n",
        "    variacion_aleatoria             proporción en la que se varían los parámetros en cada iteración\n",
        "    maximo_iteraciones              cantidad máxima de iteraciones\n",
        "    maximo_iteraciones_sin_cambios  cantidad de iteraciones sin cambios para considerar ajustado el modelo\n",
        "    '''\n",
        "\n",
        "    # hacer una copia de los datos de entrada\n",
        "    ajuste_preliminar = datos.copy()\n",
        "    # contar la cantidad de datos observados disponibles\n",
        "    cantidad_datos = ajuste_preliminar[serie_observados].count()\n",
        "    ultima_fila = cantidad_datos - 1\n",
        "    # chequear si se ingresó un valor para la última fila a considerar para el ajuste\n",
        "    if(fin_ajuste==-1): fin_ajuste=ultima_fila\n",
        "    # valor inicial rmse\n",
        "    mejor_rmse = -1\n",
        "    \n",
        "    # iterar para mejorar el ajuste, hasta el valor máximo permitido\n",
        "    for i in range(maximo_iteraciones):\n",
        "\n",
        "        # correr el modelo para la tabla completa\n",
        "        ajuste_preliminar = modelo(ajuste_preliminar, 0, ultima_fila)\n",
        "\n",
        "        # calcular RMSE para el período de ajuste (desde inicio_ajuste hasta fin_ajuste)\n",
        "        datos_estimados  = ajuste_preliminar.loc[inicio_ajuste:fin_ajuste, serie_estimados]\n",
        "        datos_observados = ajuste_preliminar.loc[inicio_ajuste:fin_ajuste, serie_observados]\n",
        "        rmse = sqrt(mean_squared_error(datos_estimados, datos_observados))\n",
        "\n",
        "        # verificar si el RMSE mejoró (o si es la primera iteración)\n",
        "        if(rmse<mejor_rmse or i==0): # and minima_diferencia>=0):\n",
        "            mejor_rmse = rmse\n",
        "            mejor_ajuste = ajuste_preliminar.copy()\n",
        "            iteraciones_sin_cambios = 0\n",
        "\n",
        "        # si no, volver al mejor ajuste anterior\n",
        "        else:\n",
        "            ajuste_preliminar = mejor_ajuste.copy()\n",
        "            iteraciones_sin_cambios = iteraciones_sin_cambios + 1\n",
        "\n",
        "        # aleatorizar los parámetros para una nueva iteración\n",
        "        aleatorizar_parametros(ajuste_preliminar, variacion_aleatoria)\n",
        "\n",
        "        # mostrar progreso\n",
        "        if(i % 100)==0:\n",
        "            print(\".\", end=\" \")\n",
        "\n",
        "        # si ya hubo muchas iteraciones sin que haya cambios, terminar el ajuste\n",
        "        if(iteraciones_sin_cambios > maximo_iteraciones_sin_cambios): break\n",
        "\n",
        "    # devolver como resultado el mejor mejor_ajuste obtenido\n",
        "    return mejor_ajuste\n",
        "\n",
        "\n",
        "def aleatorizar_parametros(datos, variacion_aleatoria):\n",
        "\n",
        "    # leer los valores actuales de los parámetros\n",
        "    R0  = datos.loc[0,'R0']\n",
        "    S   = datos.loc[0,'S']\n",
        "    E   = datos.loc[0,'E']\n",
        "    I   = datos.loc[0,'I']\n",
        "    Ia  = datos.loc[0,'Ia']\n",
        "    R   = datos.loc[0,'R']\n",
        "    T   = S + E + I + R\n",
        "    \n",
        "    # aleatorizar el parámetro R0\n",
        "    multiplicador = random.uniform(1-variacion_aleatoria, 1+variacion_aleatoria)\n",
        "    R0  = R0  * multiplicador\n",
        "\n",
        "    # aleatorizar los valores de E e I\n",
        "    multiplicador = random.uniform(1-variacion_aleatoria, 1+variacion_aleatoria)\n",
        "    E  = E  * multiplicador\n",
        "    I  = I  * multiplicador\n",
        "\n",
        "    # aleatorizar el valor de R\n",
        "    multiplicador = random.uniform(1-variacion_aleatoria, 1+variacion_aleatoria)\n",
        "    R = R * multiplicador\n",
        "    \n",
        "    # recalcular el resto de las variables iniciales\n",
        "    Ia = R + I\n",
        "    S = T - E - I - R\n",
        "\n",
        "    # actualizar los valores en la planilla de datos\n",
        "    datos['R0']        = R0\n",
        "    datos.loc[0, 'S']  = S\n",
        "    datos.loc[0, 'E']  = E\n",
        "    datos.loc[0, 'I']  = I\n",
        "    datos.loc[0, 'Ia'] = Ia\n",
        "    datos.loc[0, 'R']  = R"
      ],
      "execution_count": null,
      "outputs": []
    },
    {
      "cell_type": "markdown",
      "metadata": {
        "id": "r-upr9mCkGxp"
      },
      "source": [
        "## Ajuste de parámetros"
      ]
    },
    {
      "cell_type": "markdown",
      "metadata": {
        "id": "AzKqfVyVm62z"
      },
      "source": [
        "### Ajuste para el primer período"
      ]
    },
    {
      "cell_type": "code",
      "metadata": {
        "tags": [],
        "id": "qXPwWH6-kGx0",
        "outputId": "88451267-ea2a-409c-b416-44dfa65ffcd1",
        "colab": {
          "base_uri": "https://localhost:8080/"
        }
      },
      "source": [
        "# recortar la tabla de datos y dejar sólo las filas que se van a usar para el ajuste\n",
        "filas = duracion_lag + duracion_ajuste_1 + 1\n",
        "datos_ajuste = datos.tail(filas).reset_index(drop=True)\n",
        "\n",
        "# agregar columnas para los parámetros del modelo, e incluir los valores iniciales en todas las filas\n",
        "## valores de R0 y Beta a partir de los resultados del ajuste con nexo/sin nexo\n",
        "datos_ajuste['R0']    = R0\n",
        "datos_ajuste['Alpha'] = alpha\n",
        "datos_ajuste['Beta']  = beta\n",
        "datos_ajuste['Gamma'] = gamma\n",
        "\n",
        "datos_ajuste['R0']    = 1.5829804653499224  # valor ajuste publicado\n",
        "\n",
        "# estimar valores iniciales de casos expuestos y activos\n",
        "casos_primera_semana = datos_ajuste.loc[7, columna_datos] - datos_ajuste.loc[0, columna_datos]\n",
        "I = max(1, casos_primera_semana) # al menos 1 caso inicial\n",
        "E = I * gamma / alpha\n",
        "\n",
        "# tomar valores iniciales de casos acumulados\n",
        "Ia  = datos_ajuste.loc[0, columna_datos]\n",
        "R = Ia - I\n",
        "S = T - E - I - R\n",
        "\n",
        "# agregar columnas para los compartimientos del modelo y los valores iniciales en la primera fila\n",
        "datos_ajuste.loc[0, 'S']     = S\n",
        "datos_ajuste.loc[0, 'E']     = E\n",
        "datos_ajuste.loc[0, 'I']     = I\n",
        "datos_ajuste.loc[0, 'Ia']    = Ia\n",
        "datos_ajuste.loc[0, 'R']     = R\n",
        "\n",
        "# correr la función de ajuste de parámetros\n",
        "resultado_ajuste_1 = ajustar_modelo(modelo_SEIR, datos_ajuste, 'Ia', columna_datos, duracion_lag, variacion_aleatoria=0.05)\n",
        "\n",
        "# mostrar R0 ajustado\n",
        "print('R0 ajustado:',resultado_ajuste_1.loc[0,'R0'])"
      ],
      "execution_count": null,
      "outputs": [
        {
          "output_type": "stream",
          "text": [
            ". . . . . . . . . . R0 ajustado: 1.5182937568994392\n"
          ],
          "name": "stdout"
        }
      ]
    },
    {
      "cell_type": "code",
      "metadata": {
        "id": "EqJ9t7l-y1fB",
        "outputId": "fe811e24-dab4-4da1-f513-39e091d6820f",
        "colab": {
          "base_uri": "https://localhost:8080/",
          "height": 1000
        }
      },
      "source": [
        "resultado_ajuste_1"
      ],
      "execution_count": null,
      "outputs": [
        {
          "output_type": "execute_result",
          "data": {
            "text/html": [
              "<div>\n",
              "<style scoped>\n",
              "    .dataframe tbody tr th:only-of-type {\n",
              "        vertical-align: middle;\n",
              "    }\n",
              "\n",
              "    .dataframe tbody tr th {\n",
              "        vertical-align: top;\n",
              "    }\n",
              "\n",
              "    .dataframe thead th {\n",
              "        text-align: right;\n",
              "    }\n",
              "</style>\n",
              "<table border=\"1\" class=\"dataframe\">\n",
              "  <thead>\n",
              "    <tr style=\"text-align: right;\">\n",
              "      <th>clasificacion_resumen</th>\n",
              "      <th>Confirmado</th>\n",
              "      <th>Descartado</th>\n",
              "      <th>Sospechoso</th>\n",
              "      <th>Total</th>\n",
              "      <th>Estimado</th>\n",
              "      <th>fecha</th>\n",
              "      <th>R0</th>\n",
              "      <th>Alpha</th>\n",
              "      <th>Beta</th>\n",
              "      <th>Gamma</th>\n",
              "      <th>S</th>\n",
              "      <th>E</th>\n",
              "      <th>I</th>\n",
              "      <th>Ia</th>\n",
              "      <th>R</th>\n",
              "    </tr>\n",
              "  </thead>\n",
              "  <tbody>\n",
              "    <tr>\n",
              "      <th>0</th>\n",
              "      <td>34</td>\n",
              "      <td>128</td>\n",
              "      <td>3</td>\n",
              "      <td>165</td>\n",
              "      <td>35.262202</td>\n",
              "      <td>2020-09-08</td>\n",
              "      <td>1.518294</td>\n",
              "      <td>0.333333</td>\n",
              "      <td>0.216899</td>\n",
              "      <td>0.142857</td>\n",
              "      <td>18245.946833</td>\n",
              "      <td>6.764047</td>\n",
              "      <td>15.782776</td>\n",
              "      <td>28.289120</td>\n",
              "      <td>12.506344</td>\n",
              "    </tr>\n",
              "    <tr>\n",
              "      <th>1</th>\n",
              "      <td>34</td>\n",
              "      <td>135</td>\n",
              "      <td>3</td>\n",
              "      <td>172</td>\n",
              "      <td>35.262202</td>\n",
              "      <td>2020-09-09</td>\n",
              "      <td>1.518294</td>\n",
              "      <td>0.333333</td>\n",
              "      <td>0.216899</td>\n",
              "      <td>0.142857</td>\n",
              "      <td>18242.528863</td>\n",
              "      <td>7.927335</td>\n",
              "      <td>15.782776</td>\n",
              "      <td>30.543802</td>\n",
              "      <td>14.761027</td>\n",
              "    </tr>\n",
              "    <tr>\n",
              "      <th>2</th>\n",
              "      <td>35</td>\n",
              "      <td>135</td>\n",
              "      <td>3</td>\n",
              "      <td>173</td>\n",
              "      <td>36.262202</td>\n",
              "      <td>2020-09-10</td>\n",
              "      <td>1.518294</td>\n",
              "      <td>0.333333</td>\n",
              "      <td>0.216899</td>\n",
              "      <td>0.142857</td>\n",
              "      <td>18239.111315</td>\n",
              "      <td>8.702438</td>\n",
              "      <td>16.170538</td>\n",
              "      <td>33.186247</td>\n",
              "      <td>17.015709</td>\n",
              "    </tr>\n",
              "    <tr>\n",
              "      <th>3</th>\n",
              "      <td>39</td>\n",
              "      <td>143</td>\n",
              "      <td>3</td>\n",
              "      <td>185</td>\n",
              "      <td>40.262202</td>\n",
              "      <td>2020-09-11</td>\n",
              "      <td>1.518294</td>\n",
              "      <td>0.333333</td>\n",
              "      <td>0.216899</td>\n",
              "      <td>0.142857</td>\n",
              "      <td>18235.610310</td>\n",
              "      <td>9.302631</td>\n",
              "      <td>16.761274</td>\n",
              "      <td>36.087060</td>\n",
              "      <td>19.325786</td>\n",
              "    </tr>\n",
              "    <tr>\n",
              "      <th>4</th>\n",
              "      <td>39</td>\n",
              "      <td>144</td>\n",
              "      <td>3</td>\n",
              "      <td>186</td>\n",
              "      <td>40.262202</td>\n",
              "      <td>2020-09-12</td>\n",
              "      <td>1.518294</td>\n",
              "      <td>0.333333</td>\n",
              "      <td>0.216899</td>\n",
              "      <td>0.142857</td>\n",
              "      <td>18231.981984</td>\n",
              "      <td>9.830079</td>\n",
              "      <td>17.467683</td>\n",
              "      <td>39.187937</td>\n",
              "      <td>21.720253</td>\n",
              "    </tr>\n",
              "    <tr>\n",
              "      <th>5</th>\n",
              "      <td>41</td>\n",
              "      <td>145</td>\n",
              "      <td>3</td>\n",
              "      <td>189</td>\n",
              "      <td>42.262202</td>\n",
              "      <td>2020-09-13</td>\n",
              "      <td>1.518294</td>\n",
              "      <td>0.333333</td>\n",
              "      <td>0.216899</td>\n",
              "      <td>0.142857</td>\n",
              "      <td>18228.201386</td>\n",
              "      <td>10.333985</td>\n",
              "      <td>18.248993</td>\n",
              "      <td>42.464630</td>\n",
              "      <td>24.215637</td>\n",
              "    </tr>\n",
              "    <tr>\n",
              "      <th>6</th>\n",
              "      <td>48</td>\n",
              "      <td>149</td>\n",
              "      <td>3</td>\n",
              "      <td>200</td>\n",
              "      <td>49.262202</td>\n",
              "      <td>2020-09-14</td>\n",
              "      <td>1.518294</td>\n",
              "      <td>0.333333</td>\n",
              "      <td>0.216899</td>\n",
              "      <td>0.142857</td>\n",
              "      <td>18224.252395</td>\n",
              "      <td>10.838314</td>\n",
              "      <td>19.086656</td>\n",
              "      <td>45.909291</td>\n",
              "      <td>26.822636</td>\n",
              "    </tr>\n",
              "    <tr>\n",
              "      <th>7</th>\n",
              "      <td>48</td>\n",
              "      <td>149</td>\n",
              "      <td>3</td>\n",
              "      <td>200</td>\n",
              "      <td>49.262202</td>\n",
              "      <td>2020-09-15</td>\n",
              "      <td>1.518294</td>\n",
              "      <td>0.333333</td>\n",
              "      <td>0.216899</td>\n",
              "      <td>0.142857</td>\n",
              "      <td>18220.122919</td>\n",
              "      <td>11.355018</td>\n",
              "      <td>19.972762</td>\n",
              "      <td>49.522063</td>\n",
              "      <td>29.549301</td>\n",
              "    </tr>\n",
              "    <tr>\n",
              "      <th>8</th>\n",
              "      <td>53</td>\n",
              "      <td>156</td>\n",
              "      <td>3</td>\n",
              "      <td>212</td>\n",
              "      <td>54.262202</td>\n",
              "      <td>2020-09-16</td>\n",
              "      <td>1.518294</td>\n",
              "      <td>0.333333</td>\n",
              "      <td>0.216899</td>\n",
              "      <td>0.142857</td>\n",
              "      <td>18215.802587</td>\n",
              "      <td>11.890344</td>\n",
              "      <td>20.904516</td>\n",
              "      <td>53.307069</td>\n",
              "      <td>32.402552</td>\n",
              "    </tr>\n",
              "    <tr>\n",
              "      <th>9</th>\n",
              "      <td>55</td>\n",
              "      <td>158</td>\n",
              "      <td>3</td>\n",
              "      <td>216</td>\n",
              "      <td>56.262202</td>\n",
              "      <td>2020-09-17</td>\n",
              "      <td>1.518294</td>\n",
              "      <td>0.333333</td>\n",
              "      <td>0.216899</td>\n",
              "      <td>0.142857</td>\n",
              "      <td>18211.281647</td>\n",
              "      <td>12.447837</td>\n",
              "      <td>21.881605</td>\n",
              "      <td>57.270517</td>\n",
              "      <td>35.388912</td>\n",
              "    </tr>\n",
              "    <tr>\n",
              "      <th>10</th>\n",
              "      <td>59</td>\n",
              "      <td>161</td>\n",
              "      <td>3</td>\n",
              "      <td>223</td>\n",
              "      <td>60.262202</td>\n",
              "      <td>2020-09-18</td>\n",
              "      <td>1.518294</td>\n",
              "      <td>0.333333</td>\n",
              "      <td>0.216899</td>\n",
              "      <td>0.142857</td>\n",
              "      <td>18206.550425</td>\n",
              "      <td>13.029780</td>\n",
              "      <td>22.904940</td>\n",
              "      <td>61.419796</td>\n",
              "      <td>38.514855</td>\n",
              "    </tr>\n",
              "    <tr>\n",
              "      <th>11</th>\n",
              "      <td>60</td>\n",
              "      <td>163</td>\n",
              "      <td>3</td>\n",
              "      <td>226</td>\n",
              "      <td>61.262202</td>\n",
              "      <td>2020-09-19</td>\n",
              "      <td>1.518294</td>\n",
              "      <td>0.333333</td>\n",
              "      <td>0.216899</td>\n",
              "      <td>0.142857</td>\n",
              "      <td>18201.599067</td>\n",
              "      <td>13.637877</td>\n",
              "      <td>23.976066</td>\n",
              "      <td>65.763055</td>\n",
              "      <td>41.786990</td>\n",
              "    </tr>\n",
              "    <tr>\n",
              "      <th>12</th>\n",
              "      <td>61</td>\n",
              "      <td>167</td>\n",
              "      <td>3</td>\n",
              "      <td>231</td>\n",
              "      <td>62.262202</td>\n",
              "      <td>2020-09-20</td>\n",
              "      <td>1.518294</td>\n",
              "      <td>0.333333</td>\n",
              "      <td>0.216899</td>\n",
              "      <td>0.142857</td>\n",
              "      <td>18196.417401</td>\n",
              "      <td>14.273584</td>\n",
              "      <td>25.096873</td>\n",
              "      <td>70.309015</td>\n",
              "      <td>45.212142</td>\n",
              "    </tr>\n",
              "    <tr>\n",
              "      <th>13</th>\n",
              "      <td>65</td>\n",
              "      <td>170</td>\n",
              "      <td>4</td>\n",
              "      <td>239</td>\n",
              "      <td>66.687202</td>\n",
              "      <td>2020-09-21</td>\n",
              "      <td>1.518294</td>\n",
              "      <td>0.333333</td>\n",
              "      <td>0.216899</td>\n",
              "      <td>0.142857</td>\n",
              "      <td>18190.994864</td>\n",
              "      <td>14.938260</td>\n",
              "      <td>26.269466</td>\n",
              "      <td>75.066876</td>\n",
              "      <td>48.797409</td>\n",
              "    </tr>\n",
              "    <tr>\n",
              "      <th>14</th>\n",
              "      <td>73</td>\n",
              "      <td>172</td>\n",
              "      <td>4</td>\n",
              "      <td>249</td>\n",
              "      <td>74.687202</td>\n",
              "      <td>2020-09-22</td>\n",
              "      <td>1.518294</td>\n",
              "      <td>0.333333</td>\n",
              "      <td>0.216899</td>\n",
              "      <td>0.142857</td>\n",
              "      <td>18185.320456</td>\n",
              "      <td>15.633248</td>\n",
              "      <td>27.496105</td>\n",
              "      <td>80.046296</td>\n",
              "      <td>52.550190</td>\n",
              "    </tr>\n",
              "    <tr>\n",
              "      <th>15</th>\n",
              "      <td>82</td>\n",
              "      <td>182</td>\n",
              "      <td>5</td>\n",
              "      <td>269</td>\n",
              "      <td>84.192466</td>\n",
              "      <td>2020-09-23</td>\n",
              "      <td>1.518294</td>\n",
              "      <td>0.333333</td>\n",
              "      <td>0.216899</td>\n",
              "      <td>0.142857</td>\n",
              "      <td>18179.382712</td>\n",
              "      <td>16.359910</td>\n",
              "      <td>28.779173</td>\n",
              "      <td>85.257378</td>\n",
              "      <td>56.478205</td>\n",
              "    </tr>\n",
              "    <tr>\n",
              "      <th>16</th>\n",
              "      <td>91</td>\n",
              "      <td>185</td>\n",
              "      <td>5</td>\n",
              "      <td>281</td>\n",
              "      <td>93.192466</td>\n",
              "      <td>2020-09-24</td>\n",
              "      <td>1.518294</td>\n",
              "      <td>0.333333</td>\n",
              "      <td>0.216899</td>\n",
              "      <td>0.142857</td>\n",
              "      <td>18173.169673</td>\n",
              "      <td>17.119646</td>\n",
              "      <td>30.121166</td>\n",
              "      <td>90.710682</td>\n",
              "      <td>60.589516</td>\n",
              "    </tr>\n",
              "    <tr>\n",
              "      <th>17</th>\n",
              "      <td>99</td>\n",
              "      <td>192</td>\n",
              "      <td>5</td>\n",
              "      <td>296</td>\n",
              "      <td>101.192466</td>\n",
              "      <td>2020-09-25</td>\n",
              "      <td>1.518294</td>\n",
              "      <td>0.333333</td>\n",
              "      <td>0.216899</td>\n",
              "      <td>0.142857</td>\n",
              "      <td>18166.668867</td>\n",
              "      <td>17.913903</td>\n",
              "      <td>31.524691</td>\n",
              "      <td>96.417230</td>\n",
              "      <td>64.892540</td>\n",
              "    </tr>\n",
              "    <tr>\n",
              "      <th>18</th>\n",
              "      <td>107</td>\n",
              "      <td>203</td>\n",
              "      <td>5</td>\n",
              "      <td>315</td>\n",
              "      <td>109.192466</td>\n",
              "      <td>2020-09-26</td>\n",
              "      <td>1.518294</td>\n",
              "      <td>0.333333</td>\n",
              "      <td>0.216899</td>\n",
              "      <td>0.142857</td>\n",
              "      <td>18159.867288</td>\n",
              "      <td>18.744180</td>\n",
              "      <td>32.992464</td>\n",
              "      <td>102.388531</td>\n",
              "      <td>69.396067</td>\n",
              "    </tr>\n",
              "    <tr>\n",
              "      <th>19</th>\n",
              "      <td>107</td>\n",
              "      <td>206</td>\n",
              "      <td>5</td>\n",
              "      <td>318</td>\n",
              "      <td>109.192466</td>\n",
              "      <td>2020-09-27</td>\n",
              "      <td>1.518294</td>\n",
              "      <td>0.333333</td>\n",
              "      <td>0.216899</td>\n",
              "      <td>0.142857</td>\n",
              "      <td>18152.751373</td>\n",
              "      <td>19.612036</td>\n",
              "      <td>34.527315</td>\n",
              "      <td>108.636591</td>\n",
              "      <td>74.109276</td>\n",
              "    </tr>\n",
              "    <tr>\n",
              "      <th>20</th>\n",
              "      <td>118</td>\n",
              "      <td>207</td>\n",
              "      <td>5</td>\n",
              "      <td>330</td>\n",
              "      <td>120.192466</td>\n",
              "      <td>2020-09-28</td>\n",
              "      <td>1.518294</td>\n",
              "      <td>0.333333</td>\n",
              "      <td>0.216899</td>\n",
              "      <td>0.142857</td>\n",
              "      <td>18145.306981</td>\n",
              "      <td>20.519083</td>\n",
              "      <td>36.132187</td>\n",
              "      <td>115.173936</td>\n",
              "      <td>79.041750</td>\n",
              "    </tr>\n",
              "    <tr>\n",
              "      <th>21</th>\n",
              "      <td>124</td>\n",
              "      <td>211</td>\n",
              "      <td>5</td>\n",
              "      <td>340</td>\n",
              "      <td>126.192466</td>\n",
              "      <td>2020-09-29</td>\n",
              "      <td>1.518294</td>\n",
              "      <td>0.333333</td>\n",
              "      <td>0.216899</td>\n",
              "      <td>0.142857</td>\n",
              "      <td>18137.519372</td>\n",
              "      <td>21.466997</td>\n",
              "      <td>37.810140</td>\n",
              "      <td>122.013631</td>\n",
              "      <td>84.203491</td>\n",
              "    </tr>\n",
              "    <tr>\n",
              "      <th>22</th>\n",
              "      <td>134</td>\n",
              "      <td>221</td>\n",
              "      <td>5</td>\n",
              "      <td>360</td>\n",
              "      <td>136.192466</td>\n",
              "      <td>2020-09-30</td>\n",
              "      <td>1.518294</td>\n",
              "      <td>0.333333</td>\n",
              "      <td>0.216899</td>\n",
              "      <td>0.142857</td>\n",
              "      <td>18129.373187</td>\n",
              "      <td>22.457517</td>\n",
              "      <td>39.564357</td>\n",
              "      <td>129.169296</td>\n",
              "      <td>89.604939</td>\n",
              "    </tr>\n",
              "    <tr>\n",
              "      <th>23</th>\n",
              "      <td>136</td>\n",
              "      <td>226</td>\n",
              "      <td>5</td>\n",
              "      <td>367</td>\n",
              "      <td>138.192466</td>\n",
              "      <td>2020-10-01</td>\n",
              "      <td>1.518294</td>\n",
              "      <td>0.333333</td>\n",
              "      <td>0.216899</td>\n",
              "      <td>0.142857</td>\n",
              "      <td>18120.852422</td>\n",
              "      <td>23.492442</td>\n",
              "      <td>41.398145</td>\n",
              "      <td>136.655135</td>\n",
              "      <td>95.256990</td>\n",
              "    </tr>\n",
              "    <tr>\n",
              "      <th>24</th>\n",
              "      <td>148</td>\n",
              "      <td>230</td>\n",
              "      <td>5</td>\n",
              "      <td>383</td>\n",
              "      <td>150.192466</td>\n",
              "      <td>2020-10-02</td>\n",
              "      <td>1.518294</td>\n",
              "      <td>0.333333</td>\n",
              "      <td>0.216899</td>\n",
              "      <td>0.142857</td>\n",
              "      <td>18111.940410</td>\n",
              "      <td>24.573641</td>\n",
              "      <td>43.314938</td>\n",
              "      <td>144.485949</td>\n",
              "      <td>101.171011</td>\n",
              "    </tr>\n",
              "    <tr>\n",
              "      <th>25</th>\n",
              "      <td>156</td>\n",
              "      <td>235</td>\n",
              "      <td>5</td>\n",
              "      <td>396</td>\n",
              "      <td>158.192466</td>\n",
              "      <td>2020-10-03</td>\n",
              "      <td>1.518294</td>\n",
              "      <td>0.333333</td>\n",
              "      <td>0.216899</td>\n",
              "      <td>0.142857</td>\n",
              "      <td>18102.619793</td>\n",
              "      <td>25.703044</td>\n",
              "      <td>45.318304</td>\n",
              "      <td>152.677163</td>\n",
              "      <td>107.358859</td>\n",
              "    </tr>\n",
              "    <tr>\n",
              "      <th>26</th>\n",
              "      <td>158</td>\n",
              "      <td>236</td>\n",
              "      <td>5</td>\n",
              "      <td>399</td>\n",
              "      <td>160.192466</td>\n",
              "      <td>2020-10-04</td>\n",
              "      <td>1.518294</td>\n",
              "      <td>0.333333</td>\n",
              "      <td>0.216899</td>\n",
              "      <td>0.142857</td>\n",
              "      <td>18092.872502</td>\n",
              "      <td>26.882654</td>\n",
              "      <td>47.411942</td>\n",
              "      <td>161.244844</td>\n",
              "      <td>113.832903</td>\n",
              "    </tr>\n",
              "    <tr>\n",
              "      <th>27</th>\n",
              "      <td>160</td>\n",
              "      <td>236</td>\n",
              "      <td>9</td>\n",
              "      <td>405</td>\n",
              "      <td>164.552714</td>\n",
              "      <td>2020-10-05</td>\n",
              "      <td>1.518294</td>\n",
              "      <td>0.333333</td>\n",
              "      <td>0.216899</td>\n",
              "      <td>0.142857</td>\n",
              "      <td>18082.679732</td>\n",
              "      <td>28.114539</td>\n",
              "      <td>49.599692</td>\n",
              "      <td>170.205729</td>\n",
              "      <td>120.606037</td>\n",
              "    </tr>\n",
              "    <tr>\n",
              "      <th>28</th>\n",
              "      <td>164</td>\n",
              "      <td>236</td>\n",
              "      <td>10</td>\n",
              "      <td>410</td>\n",
              "      <td>170.754986</td>\n",
              "      <td>2020-10-06</td>\n",
              "      <td>1.518294</td>\n",
              "      <td>0.333333</td>\n",
              "      <td>0.214286</td>\n",
              "      <td>0.142857</td>\n",
              "      <td>18072.021921</td>\n",
              "      <td>29.400837</td>\n",
              "      <td>51.885535</td>\n",
              "      <td>179.577242</td>\n",
              "      <td>127.691707</td>\n",
              "    </tr>\n",
              "  </tbody>\n",
              "</table>\n",
              "</div>"
            ],
            "text/plain": [
              "clasificacion_resumen  Confirmado  Descartado  ...          Ia           R\n",
              "0                              34         128  ...   28.289120   12.506344\n",
              "1                              34         135  ...   30.543802   14.761027\n",
              "2                              35         135  ...   33.186247   17.015709\n",
              "3                              39         143  ...   36.087060   19.325786\n",
              "4                              39         144  ...   39.187937   21.720253\n",
              "5                              41         145  ...   42.464630   24.215637\n",
              "6                              48         149  ...   45.909291   26.822636\n",
              "7                              48         149  ...   49.522063   29.549301\n",
              "8                              53         156  ...   53.307069   32.402552\n",
              "9                              55         158  ...   57.270517   35.388912\n",
              "10                             59         161  ...   61.419796   38.514855\n",
              "11                             60         163  ...   65.763055   41.786990\n",
              "12                             61         167  ...   70.309015   45.212142\n",
              "13                             65         170  ...   75.066876   48.797409\n",
              "14                             73         172  ...   80.046296   52.550190\n",
              "15                             82         182  ...   85.257378   56.478205\n",
              "16                             91         185  ...   90.710682   60.589516\n",
              "17                             99         192  ...   96.417230   64.892540\n",
              "18                            107         203  ...  102.388531   69.396067\n",
              "19                            107         206  ...  108.636591   74.109276\n",
              "20                            118         207  ...  115.173936   79.041750\n",
              "21                            124         211  ...  122.013631   84.203491\n",
              "22                            134         221  ...  129.169296   89.604939\n",
              "23                            136         226  ...  136.655135   95.256990\n",
              "24                            148         230  ...  144.485949  101.171011\n",
              "25                            156         235  ...  152.677163  107.358859\n",
              "26                            158         236  ...  161.244844  113.832903\n",
              "27                            160         236  ...  170.205729  120.606037\n",
              "28                            164         236  ...  179.577242  127.691707\n",
              "\n",
              "[29 rows x 15 columns]"
            ]
          },
          "metadata": {
            "tags": []
          },
          "execution_count": 42
        }
      ]
    },
    {
      "cell_type": "markdown",
      "metadata": {
        "id": "BfTWYCYVkGyV"
      },
      "source": [
        "### Ajuste para el segundo período"
      ]
    },
    {
      "cell_type": "code",
      "metadata": {
        "tags": [],
        "id": "10aCeDXakGya",
        "outputId": "dd7e75db-c15f-4c6a-cab8-839a7617f990",
        "colab": {
          "base_uri": "https://localhost:8080/"
        }
      },
      "source": [
        "# recortar la tabla de datos y dejar sólo las filas que se van a usar para el ajuste\n",
        "filas = duracion_lag + duracion_ajuste_2 + 1\n",
        "datos_ajuste = resultado_ajuste_1.tail(filas).reset_index(drop=True)\n",
        "\n",
        "datos_ajuste['R0']    = 1.5839019295856263  # valor ajuste publicado\n",
        "\n",
        "\n",
        "# correr la función de ajuste de parámetros\n",
        "resultado_ajuste_2 = ajustar_modelo(modelo_SEIR, datos_ajuste, 'Ia', columna_datos, duracion_lag, variacion_aleatoria=0.05)\n",
        "\n",
        "# mostrar R0 ajustado\n",
        "print('R0 ajustado:',resultado_ajuste_2.loc[0,'R0'])"
      ],
      "execution_count": null,
      "outputs": [
        {
          "output_type": "stream",
          "text": [
            ". . . . . R0 ajustado: 1.3046920414450467\n"
          ],
          "name": "stdout"
        }
      ]
    },
    {
      "cell_type": "markdown",
      "metadata": {
        "id": "LN8FrsfskGzN"
      },
      "source": [
        "### Ajuste para el tercer período"
      ]
    },
    {
      "cell_type": "code",
      "metadata": {
        "tags": [],
        "id": "KfC7gjFzkGzW",
        "outputId": "576da2bc-aa67-4596-e1d4-44af459145bf",
        "colab": {
          "base_uri": "https://localhost:8080/"
        }
      },
      "source": [
        "# recortar la tabla de datos y dejar sólo las filas que se van a usar para el ajuste\n",
        "filas = duracion_lag + duracion_ajuste_3 + 1\n",
        "datos_ajuste = resultado_ajuste_2.tail(filas).reset_index(drop=True)\n",
        "\n",
        "datos_ajuste['R0']    = 1.703779471291687  # valor ajuste publicado\n",
        "\n",
        "\n",
        "# correr la función de ajuste de parámetros\n",
        "resultado_ajuste_3 = ajustar_modelo(modelo_SEIR, datos_ajuste, 'Ia', columna_datos, duracion_lag, variacion_aleatoria=0.05)\n",
        "\n",
        "# mostrar R0 ajustado\n",
        "print('R0 ajustado:',resultado_ajuste_3.loc[0,'R0'])"
      ],
      "execution_count": null,
      "outputs": [
        {
          "output_type": "stream",
          "text": [
            ". . . R0 ajustado: 1.1162064632588218\n"
          ],
          "name": "stdout"
        }
      ]
    },
    {
      "cell_type": "markdown",
      "metadata": {
        "id": "FweYzcgJkGzt"
      },
      "source": [
        "### Resultado\n",
        "\n",
        "Graficar el resultado de los 3 ajustes en comparación con los datos observados"
      ]
    },
    {
      "cell_type": "code",
      "metadata": {
        "id": "UbhTROjZkGz0",
        "outputId": "b6691210-0515-48a1-b9e5-ad777f3ed79e",
        "colab": {
          "base_uri": "https://localhost:8080/",
          "height": 262
        }
      },
      "source": [
        "# casos observados\n",
        "plt.plot(\n",
        "    resultado_ajuste_1['fecha'].tail(duracion_ajuste_1),\n",
        "    resultado_ajuste_1[columna_datos].tail(duracion_ajuste_1), \n",
        "    '.', \n",
        "    label=columna_datos)\n",
        "\n",
        "# casos estimados\n",
        "plt.plot(\n",
        "    resultado_ajuste_1['fecha'].tail(duracion_ajuste_1),\n",
        "    resultado_ajuste_1['Ia'].tail(duracion_ajuste_1), \n",
        "    '-', \n",
        "    color=[0.4,0.5,0.7],\n",
        "    label='ajuste modelo '+str(duracion_ajuste_1)+' días')\n",
        "plt.plot(\n",
        "    resultado_ajuste_2['fecha'].tail(duracion_ajuste_2),\n",
        "    resultado_ajuste_2['Ia'].tail(duracion_ajuste_2), \n",
        "    '-', \n",
        "    color=[0.5,0.6,0.8],\n",
        "    label='ajuste modelo '+str(duracion_ajuste_2)+' días')\n",
        "plt.plot(\n",
        "    resultado_ajuste_3['fecha'].tail(duracion_ajuste_3),\n",
        "    resultado_ajuste_3['Ia'].tail(duracion_ajuste_3), \n",
        "    '-', \n",
        "    color=[0.6,0.7,0.9],\n",
        "    label='ajuste modelo '+str(duracion_ajuste_3)+' días')\n",
        "\n",
        "# ubicación leyeda\n",
        "plt.legend(loc='upper left')\n",
        "# formato de fecha\n",
        "plt.gca().xaxis.set_major_formatter(mdates.DateFormatter('%d/%m'))\n",
        "# escala semanal\n",
        "plt.gca().xaxis.set_major_locator(mdates.WeekdayLocator(6))"
      ],
      "execution_count": null,
      "outputs": [
        {
          "output_type": "display_data",
          "data": {
            "image/png": "[encoded data removed]",
            "text/plain": [
              "<Figure size 432x288 with 1 Axes>"
            ]
          },
          "metadata": {
            "tags": []
          }
        }
      ]
    },
    {
      "cell_type": "markdown",
      "metadata": {
        "id": "oe6GN4pFkG0O"
      },
      "source": [
        "## Proyecciones"
      ]
    },
    {
      "cell_type": "markdown",
      "metadata": {
        "id": "uve4AGAxm0Px"
      },
      "source": [
        "### Proyección simple"
      ]
    },
    {
      "cell_type": "code",
      "metadata": {
        "id": "HrL5E5SUkG0U"
      },
      "source": [
        "# copiar columnas de datos de la tabla de resultados del ajuste\n",
        "datos_simulacion_1 = resultado_ajuste_1.tail(duracion_ajuste_1).reset_index(drop=True)\n",
        "datos_simulacion_2 = resultado_ajuste_2.tail(duracion_ajuste_2).reset_index(drop=True)\n",
        "datos_simulacion_3 = resultado_ajuste_3.tail(duracion_ajuste_3).reset_index(drop=True)\n",
        "\n",
        "# función para agregar filas con los días subsiguientes para la proyección del modelo\n",
        "def armar_tabla_proyeccion(datos_simulacion, duracion_proyeccion):\n",
        "\n",
        "    for i in range(duracion_proyeccion):\n",
        "        ultima_fila = datos_simulacion.index.max()\n",
        "        ultima_fecha = datos_simulacion.loc[ultima_fila, 'fecha']\n",
        "        datos_simulacion.loc[ultima_fila + 1, 'fecha'] = ultima_fecha + pd.Timedelta(days=1)\n",
        "\n",
        "    # agregar columnas para los parámetros del modelo, e incluir los valores iniciales en todas las filas\n",
        "    datos_simulacion['R0']    = datos_simulacion.loc[0, 'R0']\n",
        "    datos_simulacion['Alpha'] = datos_simulacion.loc[0, 'Alpha']\n",
        "    datos_simulacion['Beta']  = datos_simulacion.loc[0, 'Beta']\n",
        "    datos_simulacion['Gamma'] = datos_simulacion.loc[0, 'Gamma']\n",
        "\n",
        "# llamar a la función para los 3 períodos\n",
        "armar_tabla_proyeccion(datos_simulacion_1, duracion_proyeccion)\n",
        "armar_tabla_proyeccion(datos_simulacion_2, duracion_proyeccion)\n",
        "armar_tabla_proyeccion(datos_simulacion_3, duracion_proyeccion)\n",
        "\n",
        "# correr las 3 simulaciones\n",
        "resultado_simulacion_1 = modelo_SEIR(datos_simulacion_1)\n",
        "resultado_simulacion_2 = modelo_SEIR(datos_simulacion_2)\n",
        "resultado_simulacion_3 = modelo_SEIR(datos_simulacion_3)\n"
      ],
      "execution_count": null,
      "outputs": []
    },
    {
      "cell_type": "markdown",
      "metadata": {
        "id": "kaNyc3GEkG0t"
      },
      "source": [
        "Graficar resultado"
      ]
    },
    {
      "cell_type": "code",
      "metadata": {
        "id": "iFnTobZlkG00",
        "outputId": "c1e46bb7-d4d9-4ada-c141-ca57ca670718",
        "colab": {
          "base_uri": "https://localhost:8080/",
          "height": 283
        }
      },
      "source": [
        "# casos observados\n",
        "plt.plot(\n",
        "    resultado_simulacion_1['fecha'],\n",
        "    resultado_simulacion_1[columna_datos], \n",
        "    '-', \n",
        "    label=columna_datos)\n",
        "\n",
        "# casos estimados\n",
        "plt.plot(\n",
        "    resultado_simulacion_1['fecha'].tail(duracion_proyeccion + 1),\n",
        "    resultado_simulacion_1['Ia'].tail(duracion_proyeccion + 1), \n",
        "    '-', \n",
        "    color=[0.4,0.5,0.7],\n",
        "    label='proyección ajuste modelo '+str(duracion_ajuste_1)+' días')\n",
        "plt.plot(\n",
        "    resultado_simulacion_2['fecha'].tail(duracion_proyeccion + 1),\n",
        "    resultado_simulacion_2['Ia'].tail(duracion_proyeccion + 1), \n",
        "    '-', \n",
        "    color=[0.5,0.6,0.8],\n",
        "    label='proyección ajuste modelo '+str(duracion_ajuste_2)+' días')\n",
        "plt.plot(\n",
        "    resultado_simulacion_3['fecha'].tail(duracion_proyeccion + 1),\n",
        "    resultado_simulacion_3['Ia'].tail(duracion_proyeccion + 1), \n",
        "    '-', \n",
        "    color=[0.6,0.7,0.9],\n",
        "    label='proyección ajuste modelo '+str(duracion_ajuste_3)+' días')\n",
        "\n",
        "# ubicación leyeda\n",
        "plt.legend(loc='upper left')\n",
        "# formato de fecha\n",
        "plt.gca().xaxis.set_major_formatter(mdates.DateFormatter('%d/%m'))\n",
        "# escala semanal\n",
        "plt.gca().xaxis.set_major_locator(mdates.WeekdayLocator(6))\n",
        "# escala ejes x e y\n",
        "plt.gca().set_ylim(bottom=0)\n",
        "plt.gca().set_xlim(left =resultado_simulacion_1['fecha'].iloc[ 0])\n",
        "plt.gca().set_xlim(right=resultado_simulacion_1['fecha'].iloc[-1])"
      ],
      "execution_count": null,
      "outputs": [
        {
          "output_type": "execute_result",
          "data": {
            "text/plain": [
              "(737684.0, 737719.0)"
            ]
          },
          "metadata": {
            "tags": []
          },
          "execution_count": 47
        },
        {
          "output_type": "display_data",
          "data": {
            "image/png": "[encoded data removed]",
            "text/plain": [
              "<Figure size 432x288 with 1 Axes>"
            ]
          },
          "metadata": {
            "tags": []
          }
        }
      ]
    },
    {
      "cell_type": "markdown",
      "metadata": {
        "id": "4ieVOBDNkG1O"
      },
      "source": [
        "### Intervalo de variación\n",
        "\n",
        "Identificar ajuste máximo y mínimo"
      ]
    },
    {
      "cell_type": "code",
      "metadata": {
        "tags": [],
        "id": "C-Zo2Kb5kG1T"
      },
      "source": [
        "# ver los valores de casos estimados finales en cada simulación\n",
        "ultima_fila = len(resultado_simulacion_1.index) -1\n",
        "valor_final_simulacion_1 = resultado_simulacion_1.loc[ultima_fila,'Ia']\n",
        "ultima_fila = len(resultado_simulacion_2.index) -1\n",
        "valor_final_simulacion_2 = resultado_simulacion_2.loc[ultima_fila,'Ia']\n",
        "ultima_fila = len(resultado_simulacion_3.index) -1\n",
        "valor_final_simulacion_3 = resultado_simulacion_3.loc[ultima_fila,'Ia']\n",
        "\n",
        "# calcular máximo y mínimo\n",
        "maximo = max([valor_final_simulacion_1, valor_final_simulacion_2, valor_final_simulacion_3])\n",
        "minimo = min([valor_final_simulacion_1, valor_final_simulacion_2, valor_final_simulacion_3])\n",
        "\n",
        "# identificar cuál simulación es la que da el valor máximo\n",
        "if valor_final_simulacion_1 == maximo: maximo_proyeccion = resultado_simulacion_1.copy()\n",
        "if valor_final_simulacion_2 == maximo: maximo_proyeccion = resultado_simulacion_2.copy()\n",
        "if valor_final_simulacion_3 == maximo: maximo_proyeccion = resultado_simulacion_3.copy()\n",
        "\n",
        "# identificar cuál simulación es la que da el valor mínimo\n",
        "if valor_final_simulacion_1 == minimo: minimo_proyeccion = resultado_simulacion_1.copy()\n",
        "if valor_final_simulacion_2 == minimo: minimo_proyeccion = resultado_simulacion_2.copy()\n",
        "if valor_final_simulacion_3 == minimo: minimo_proyeccion = resultado_simulacion_3.copy()\n",
        "\n",
        "# recortar las tablas para que tengan la misma duración, y que inicien donde terminan los datos observados\n",
        "maximo_proyeccion = maximo_proyeccion.tail(duracion_proyeccion + 1).reset_index(drop=True)\n",
        "minimo_proyeccion = minimo_proyeccion.tail(duracion_proyeccion + 1).reset_index(drop=True)\n"
      ],
      "execution_count": null,
      "outputs": []
    },
    {
      "cell_type": "code",
      "metadata": {
        "id": "swQzGk7zkG1u",
        "outputId": "9bd21799-2659-4e5e-9852-b939defa5d72",
        "colab": {
          "base_uri": "https://localhost:8080/",
          "height": 283
        }
      },
      "source": [
        "# casos confirmados\n",
        "plt.plot(\n",
        "    resultado_simulacion_1['fecha'],\n",
        "    resultado_simulacion_1['Estimado'], \n",
        "    '-', \n",
        "    label='Casos confirmados estimados en base a reporte SISA')\n",
        "\n",
        "# casos estimados\n",
        "plt.fill_between(\n",
        "    maximo_proyeccion['fecha'],\n",
        "    minimo_proyeccion['Ia'], \n",
        "    maximo_proyeccion['Ia'], \n",
        "    color=[0.6,0.7,0.9],\n",
        "    lw=4,\n",
        "    label='Proyección')\n",
        "\n",
        "# ubicación leyeda\n",
        "plt.legend(loc='upper left')\n",
        "# formato de fecha\n",
        "plt.gca().xaxis.set_major_formatter(mdates.DateFormatter('%d/%m'))\n",
        "# escala semanal\n",
        "plt.gca().xaxis.set_major_locator(mdates.WeekdayLocator(6))\n",
        "# escala ejes x e y\n",
        "plt.gca().set_ylim(bottom=0)\n",
        "plt.gca().set_xlim(left =resultado_simulacion_1['fecha'].iloc[ 0])\n",
        "plt.gca().set_xlim(right=resultado_simulacion_1['fecha'].iloc[-1])"
      ],
      "execution_count": null,
      "outputs": [
        {
          "output_type": "execute_result",
          "data": {
            "text/plain": [
              "(737684.0, 737719.0)"
            ]
          },
          "metadata": {
            "tags": []
          },
          "execution_count": 49
        },
        {
          "output_type": "display_data",
          "data": {
            "image/png": "[encoded data removed]",
            "text/plain": [
              "<Figure size 432x288 with 1 Axes>"
            ]
          },
          "metadata": {
            "tags": []
          }
        }
      ]
    },
    {
      "cell_type": "markdown",
      "metadata": {
        "id": "UjH91we4kG2O"
      },
      "source": [
        "### Variación de R\n",
        "\n",
        "Aumentar el R0 para el valor máximo y disminuirlo para el valor mínimo, un % diario."
      ]
    },
    {
      "cell_type": "code",
      "metadata": {
        "id": "8Jr_gHDMkG2V"
      },
      "source": [
        "filas = len(maximo_proyeccion.index)\n",
        "variacion_diaria = 0.012\n",
        "\n",
        "##### Pinamar\n",
        "# acaba de entrar en fase 3, así que probablemente baje el R\n",
        "# valor máximo = 1.7 (un poco más alto que el actual)\n",
        "# valor mínimo = 1.15 (el de mdp en fase 3)\n",
        "\n",
        "R0 = maximo_proyeccion.loc[0,'R0']\n",
        "maximo_proyeccion_aumento_R0          = maximo_proyeccion.copy()\n",
        "maximo_proyeccion_aumento_R0['R0']    = 1.7 #( 1 + pd.Series(range(filas)) * variacion_diaria ) * R0\n",
        "maximo_proyeccion_aumento_R0          = modelo_SEIR(maximo_proyeccion_aumento_R0)\n",
        "\n",
        "R0 = minimo_proyeccion.loc[0,'R0']\n",
        "minimo_proyeccion_disminucion_R0          = minimo_proyeccion.copy()\n",
        "minimo_proyeccion_disminucion_R0['R0']    = 1.15 #( 1 - pd.Series(range(filas)) * variacion_diaria ) * R0\n",
        "minimo_proyeccion_disminucion_R0          = modelo_SEIR(minimo_proyeccion_disminucion_R0)\n"
      ],
      "execution_count": null,
      "outputs": []
    },
    {
      "cell_type": "markdown",
      "metadata": {
        "id": "tdcyHZiAmfOJ"
      },
      "source": [
        "## Resultado\n",
        "\n",
        "Graficar la proyección final"
      ]
    },
    {
      "cell_type": "code",
      "metadata": {
        "id": "wUHoqvD5kG27",
        "outputId": "ce59b1e4-79d7-4d09-d8df-5d168a9457aa",
        "colab": {
          "base_uri": "https://localhost:8080/",
          "height": 303
        }
      },
      "source": [
        "fecha_min = resultado_simulacion_1['fecha'].iloc[ 0]\n",
        "fecha_max = resultado_simulacion_1['fecha'].iloc[-1]\n",
        "\n",
        "# casos estimados variando R0\n",
        "plt.fill_between(\n",
        "    maximo_proyeccion['fecha'],\n",
        "    minimo_proyeccion_disminucion_R0['Ia'], \n",
        "    maximo_proyeccion_aumento_R0['Ia'], \n",
        "    color=[0.51,0.65,0.87],\n",
        "    lw=4,\n",
        "    label='Proyección de casos al ' + fecha_max.strftime('%d/%m'))\n",
        "\n",
        "# casos confirmados\n",
        "plt.plot(\n",
        "    resultado_simulacion_1['fecha'],\n",
        "    resultado_simulacion_1['Confirmado'], \n",
        "    ':', \n",
        "    color=[0.13,0.36,0.75],\n",
        "    label='Casos confirmados SISA')\n",
        "\n",
        "# casos positivos estimados\n",
        "plt.plot(\n",
        "    resultado_simulacion_1['fecha'],\n",
        "    resultado_simulacion_1['Estimado'], \n",
        "    '-', \n",
        "    color=[0.13,0.36,0.75],\n",
        "    label='Casos positivos estimados')\n",
        "\n",
        "    \n",
        "# ubicación leyenda\n",
        "plt.legend(loc='upper left')\n",
        "# leyenda eje x\n",
        "plt.xlabel('Fecha de apertura SISA', fontsize=10)\n",
        "# formato de fecha\n",
        "plt.gca().xaxis.set_major_formatter(mdates.DateFormatter('%d/%m'))\n",
        "# escala semanal\n",
        "plt.gca().xaxis.set_major_locator(mdates.WeekdayLocator(6))\n",
        "# escala ejes x e y\n",
        "plt.gca().set_ylim(bottom=0)\n",
        "plt.gca().set_xlim(left = fecha_min)\n",
        "plt.gca().set_xlim(right= fecha_max)\n",
        "\n",
        "# título del gráfico\n",
        "plt.title(municipio, fontsize=20, horizontalalignment='left', x=0.0, y=1.03, color=[0.13,0.36,0.75])\n",
        "# autores\n",
        "plt.text(fecha_min + pd.Timedelta(days=1), maximo*0.05, 'Gustavo Pereyra Irujo - Luciano Velázquez | FCA-UNMDP/INTA/CONICET', fontsize=8, horizontalalignment='left', color=[0.7,0.7,0.7])\n",
        "\n",
        "# guardar gráfico\n",
        "municipio_minuscula = municipio.lower().replace(' ', '_')\n",
        "nombre_archivo = 'proyección_' + municipio_minuscula\n",
        "archivo_grafico = nombre_archivo + '.png'\n",
        "plt.savefig(archivo_grafico, bbox_inches = 'tight', pad_inches = 0.1, dpi=150)\n",
        "# guardar gráfico con fecha\n",
        "nombre_archivo_fecha = 'proyección_' + fecha_ultima_actualizacion.strftime('%y_%m_%d_') + municipio_minuscula\n",
        "archivo_grafico = nombre_archivo_fecha + '.png'\n",
        "plt.savefig(archivo_grafico, bbox_inches = 'tight', pad_inches = 0.1, dpi=150)"
      ],
      "execution_count": null,
      "outputs": [
        {
          "output_type": "display_data",
          "data": {
            "image/png": "[encoded data removed]",
            "text/plain": [
              "<Figure size 432x288 with 1 Axes>"
            ]
          },
          "metadata": {
            "tags": []
          }
        }
      ]
    },
    {
      "cell_type": "code",
      "metadata": {
        "id": "02os7D37qRpC"
      },
      "source": [
        "# abrir archivo de texto\n",
        "archivo_texto = open(nombre_archivo + '.md','w') \n",
        "\n",
        "# encabezado\n",
        "archivo_texto.write(\n",
        "    '## Proyección de casos para el municipio de ' +\n",
        "    municipio + \n",
        "    '\\r\\n\\r\\n' +\n",
        "    '**'+ultima_actualizacion+'**' +\n",
        "    '\\r\\n\\r\\n---\\r\\n'\n",
        "    ) \n",
        "\n",
        "# gráfico\n",
        "archivo_texto.write(\n",
        "    '![](' + nombre_archivo + '.png?raw=true)' + \n",
        "    '\\r\\n\\r\\n'\n",
        "    ) \n",
        "\n",
        "# número de casos confirmados, sospechosos, positividad y positivos estimados\n",
        "casos_confirmados = tabla_casos_acumulados['Confirmado'][-1]\n",
        "casos_sospechosos = tabla_casos_acumulados['Sospechoso'][-1]\n",
        "positividad = int(tabla_casos_diarios['Positividad'][-1] * 100)\n",
        "casos_positivos_estimados = int(tabla_casos_acumulados['Estimado'][-1])\n",
        "\n",
        "archivo_texto.write(\n",
        "    'Al día ' + \n",
        "    fecha_ultima_actualizacion.strftime('%d/%m') + \n",
        "    ' figuran en el SISA ' +\n",
        "    str(casos_confirmados) + \n",
        "    ' casos confirmados y ' +\n",
        "    str(casos_sospechosos) +\n",
        "    ' casos sospechosos para el municipio de ' +\n",
        "    municipio + \n",
        "    '. En base a la positividad de ' +\n",
        "    str(positividad) +\n",
        "    '% observada en los últimos días, se estiman a la fecha un total de ' + \n",
        "    str(casos_positivos_estimados) +\n",
        "    ' casos positivos.' +\n",
        "    '\\r\\n' +\n",
        "    '\\r\\n'\n",
        "    )\n",
        "\n",
        "# casos proyectados\n",
        "\n",
        "ultima_fila = len(minimo_proyeccion_disminucion_R0.index) - 1\n",
        "casos_proyectados_minimo = int(minimo_proyeccion_disminucion_R0.loc[ultima_fila, 'Ia'])\n",
        "casos_proyectados_maximo = int(maximo_proyeccion_aumento_R0.loc[ultima_fila, 'Ia'])\n",
        "casos_diarios_minimo = int(round(\n",
        "    minimo_proyeccion_disminucion_R0.loc[ultima_fila, 'Ia'] - minimo_proyeccion_disminucion_R0.loc[ultima_fila-1, 'Ia']\n",
        "))\n",
        "casos_diarios_maximo = int(round(\n",
        "    maximo_proyeccion_aumento_R0.loc[ultima_fila, 'Ia'] - maximo_proyeccion_aumento_R0.loc[ultima_fila-1, 'Ia']\n",
        "))\n",
        "\n",
        "archivo_texto.write(\n",
        "    'En caso de mantenerse una tendencia similar durante los próximos ' +\n",
        "    str(duracion_proyeccion) + \n",
        "    ' días, se proyecta que al ' + \n",
        "    fecha_max.strftime('%d/%m') + \n",
        "    ' la cantidad de casos positivos acumulados sería de entre ' +\n",
        "    str(casos_proyectados_minimo) + \n",
        "    ' y ' + \n",
        "    str(casos_proyectados_maximo) +\n",
        "    ', con un promedio de entre ' + \n",
        "    str(casos_diarios_minimo) + \n",
        "    ' y ' +\n",
        "    str(casos_diarios_maximo) +\n",
        "    ' casos por día.' +\n",
        "    '\\r\\n' +\n",
        "    '\\r\\n'\n",
        "    )\n",
        "\n",
        "\n",
        "# valores de R0 observados en los ajustes y proyectados\n",
        "R0_minimo_ajuste = round(minimo_proyeccion.loc[0, 'R0'], 2)\n",
        "R0_maximo_ajuste = round(maximo_proyeccion.loc[0, 'R0'], 2)\n",
        "R0_minimo_final_proyeccion = round(minimo_proyeccion_disminucion_R0['R0'].min(), 2)\n",
        "R0_maximo_final_proyeccion = round(maximo_proyeccion_aumento_R0['R0'].max(), 2)\n",
        "\n",
        "archivo_texto.write(\n",
        "    'El número reproductivo R (promedio de infecciones secundarias a partir de cada caso) observado en los últimos ' + \n",
        "    str(duracion_ajuste_1) + \n",
        "    ' días fue de entre ' + \n",
        "    str(R0_minimo_ajuste) +\n",
        "    ' y ' +\n",
        "    str(R0_maximo_ajuste) +\n",
        "    ', mientras que la proyección asume que podría llegar a aumentar hasta ' +\n",
        "    str(R0_maximo_final_proyeccion) +\n",
        "    ' o disminuir hasta ' +\n",
        "    str(R0_minimo_final_proyeccion) +\n",
        "    '. ' +\n",
        "    '\\r\\n'\n",
        "    )\n",
        "\n",
        "# pie de página\n",
        "archivo_texto.write(\n",
        "    '\\r\\n---\\r\\n\\r\\n' +\n",
        "    'Elaboración: Gustavo Pereyra Irujo / Luciano Velázquez - FCA-UNMDP / INTA / CONICET' +\n",
        "    '\\r\\n\\r\\n'\n",
        "    ) \n",
        "\n",
        "# cerrar archivo de texto\n",
        "archivo_texto.close() \n"
      ],
      "execution_count": null,
      "outputs": []
    }
  ]
}